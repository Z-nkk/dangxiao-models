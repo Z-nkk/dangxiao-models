{
 "cells": [
  {
   "cell_type": "code",
   "execution_count": 7,
   "metadata": {},
   "outputs": [],
   "source": [
    "import os\n",
    "import json"
   ]
  },
  {
   "cell_type": "code",
   "execution_count": 8,
   "metadata": {},
   "outputs": [],
   "source": [
    "inp_dir = \"to_label_cropped\"\n",
    "\n",
    "key2idx = {\n",
    "    \"sleep\": 1,\n",
    "    \"raise_hand\": 2,\n",
    "    \"take_note\": 3,\n",
    "    \"use_phone\": 4,\n",
    "    \"others\": 0\n",
    "}\n",
    "\n",
    "fout = open(\"to_label_cropped_list.txt\", \"w\")\n",
    "for filename in os.listdir(inp_dir):\n",
    "    if filename.endswith(\".json\"):\n",
    "        l_json = json.load(open(f\"{inp_dir}/{filename}\", \"r\"))\n",
    "        l = None\n",
    "        for k,v in l_json[\"flags\"].items():\n",
    "            if v:\n",
    "                l= key2idx[k]\n",
    "                break\n",
    "        fout.write(f\"{filename[:-5]},{l}\\n\")\n",
    "fout.close()"
   ]
  },
  {
   "cell_type": "code",
   "execution_count": null,
   "metadata": {},
   "outputs": [],
   "source": []
  }
 ],
 "metadata": {
  "kernelspec": {
   "display_name": "Python 3",
   "language": "python",
   "name": "python3"
  },
  "language_info": {
   "codemirror_mode": {
    "name": "ipython",
    "version": 3
   },
   "file_extension": ".py",
   "mimetype": "text/x-python",
   "name": "python",
   "nbconvert_exporter": "python",
   "pygments_lexer": "ipython3",
   "version": "3.7.3"
  }
 },
 "nbformat": 4,
 "nbformat_minor": 4
}
