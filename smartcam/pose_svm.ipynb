{
 "cells": [
  {
   "cell_type": "code",
   "execution_count": 1,
   "metadata": {},
   "outputs": [],
   "source": [
    "from linkeaction import SinglePersonSVM\n",
    "import json\n",
    "import os"
   ]
  },
  {
   "cell_type": "code",
   "execution_count": 2,
   "metadata": {},
   "outputs": [],
   "source": [
    "pose_data = json.load(open(\"data/classroom/to_label_cropped_pose.json\", \"r\"))"
   ]
  },
  {
   "cell_type": "code",
   "execution_count": 3,
   "metadata": {},
   "outputs": [
    {
     "data": {
      "text/plain": [
       "[[132.76126098632812, 82.64271545410156, 0.8174793720245361],\n",
       " [154.12623596191406, 89.22347259521484, 0.7832463383674622],\n",
       " [124.54134368896484, 81.84906768798828, 0.6927610039710999],\n",
       " [111.38604736328125, 115.50084686279297, 0.3646896183490753],\n",
       " [108.91580963134766, 121.2644271850586, 0.4556983709335327],\n",
       " [182.0387725830078, 96.61548614501953, 0.6257930994033813],\n",
       " [168.10629272460938, 134.37106323242188, 0.7871624231338501],\n",
       " [153.2562255859375, 89.183837890625, 0.8130984306335449],\n",
       " [141.8136444091797, 159.03561401367188, 0.4468150734901428],\n",
       " [124.54135131835938, 154.94244384765625, 0.4171096980571747],\n",
       " [0.0, 0.0, 0.0],\n",
       " [0.0, 0.0, 0.0],\n",
       " [159.86180114746094, 162.3225860595703, 0.42791637778282166],\n",
       " [156.5850067138672, 206.6499481201172, 0.6146612167358398],\n",
       " [126.98785400390625, 263.364013671875, 0.38604092597961426],\n",
       " [131.92738342285156, 75.24525451660156, 0.5102552771568298],\n",
       " [138.51141357421875, 78.52748107910156, 0.7220819592475891],\n",
       " [0.0, 0.0, 0.0],\n",
       " [158.20529174804688, 76.0450439453125, 0.7078836560249329],\n",
       " [135.2205352783203, 284.7088317871094, 0.20863252878189087],\n",
       " [137.67066955566406, 281.4210510253906, 0.21047982573509216],\n",
       " [120.41031646728516, 270.7472839355469, 0.24241229891777039],\n",
       " [0.0, 0.0, 0.0],\n",
       " [0.0, 0.0, 0.0],\n",
       " [0.0, 0.0, 0.0]]"
      ]
     },
     "execution_count": 3,
     "metadata": {},
     "output_type": "execute_result"
    }
   ],
   "source": [
    "pose_data[\"5107_1_yuanmu_test1_1637206994_5700_ljy.jpg\"]"
   ]
  },
  {
   "cell_type": "code",
   "execution_count": 4,
   "metadata": {},
   "outputs": [
    {
     "name": "stdout",
     "output_type": "stream",
     "text": [
      "(362, 75) (362,)\n"
     ]
    }
   ],
   "source": [
    "import numpy as np\n",
    "\n",
    "X = []\n",
    "Y = []\n",
    "with open(\"data/classroom/to_label_cropped_list.txt\", \"r\") as fin:\n",
    "    for line in fin.readlines():\n",
    "        tmp = line.strip().split(',')\n",
    "        img_name = tmp[0]+'.jpg'\n",
    "        y = int(tmp[1])\n",
    "        x = pose_data[img_name]\n",
    "        \n",
    "        X.append(x)\n",
    "        Y.append(y)\n",
    "X = np.array(X).reshape(362,75)\n",
    "Y = np.array(Y)\n",
    "print(X.shape, Y.shape)"
   ]
  },
  {
   "cell_type": "code",
   "execution_count": 5,
   "metadata": {},
   "outputs": [
    {
     "name": "stdout",
     "output_type": "stream",
     "text": [
      "Weights saved to weights/pose_svm_all.pkl.\n"
     ]
    },
    {
     "name": "stderr",
     "output_type": "stream",
     "text": [
      "/Users/yuanmu/anaconda3/lib/python3.7/site-packages/sklearn/svm/base.py:193: FutureWarning: The default value of gamma will change from 'auto' to 'scale' in version 0.22 to account better for unscaled features. Set gamma explicitly to 'auto' or 'scale' to avoid this warning.\n",
      "  \"avoid this warning.\", FutureWarning)\n"
     ]
    }
   ],
   "source": [
    "m = SinglePersonSVM()\n",
    "m.train(X, Y, save_path=\"weights/pose_svm_all.pkl\")"
   ]
  },
  {
   "cell_type": "code",
   "execution_count": 6,
   "metadata": {},
   "outputs": [
    {
     "name": "stdout",
     "output_type": "stream",
     "text": [
      "Test with 362 samples. Accuracy=1.0.\n"
     ]
    }
   ],
   "source": [
    "m.eval(X,Y)"
   ]
  },
  {
   "cell_type": "code",
   "execution_count": null,
   "metadata": {},
   "outputs": [],
   "source": []
  }
 ],
 "metadata": {
  "kernelspec": {
   "display_name": "Python 3",
   "language": "python",
   "name": "python3"
  },
  "language_info": {
   "codemirror_mode": {
    "name": "ipython",
    "version": 3
   },
   "file_extension": ".py",
   "mimetype": "text/x-python",
   "name": "python",
   "nbconvert_exporter": "python",
   "pygments_lexer": "ipython3",
   "version": "3.7.3"
  }
 },
 "nbformat": 4,
 "nbformat_minor": 4
}
