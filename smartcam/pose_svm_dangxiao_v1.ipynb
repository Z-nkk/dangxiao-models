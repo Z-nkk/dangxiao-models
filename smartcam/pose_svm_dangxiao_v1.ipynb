{
 "cells": [
  {
   "cell_type": "code",
   "execution_count": 3,
   "metadata": {},
   "outputs": [],
   "source": [
    "from linkeaction import SinglePersonSVM\n",
    "import json\n",
    "import os\n",
    "import numpy as np"
   ]
  },
  {
   "cell_type": "code",
   "execution_count": 17,
   "metadata": {},
   "outputs": [
    {
     "name": "stdout",
     "output_type": "stream",
     "text": [
      "(547, 25, 3) (547,)\n"
     ]
    }
   ],
   "source": [
    "pose_data1 = json.load(open(\"data/classroom/to_label_cropped_pose.json\", \"r\"))\n",
    "\n",
    "\n",
    "X = []\n",
    "Y = []\n",
    "\n",
    "with open(\"data/classroom/to_label_cropped_list.txt\", \"r\") as fin:\n",
    "    for line in fin.readlines():\n",
    "        tmp = line.strip().split(',')\n",
    "        img_name = tmp[0]+'.jpg'\n",
    "        y = int(tmp[1])\n",
    "        x = pose_data1[img_name]\n",
    "        \n",
    "        X.append(x)\n",
    "        Y.append(y)\n",
    "\n",
    "pose_data2 = json.load(open(\"data/DX/openpose_results/zixin_crop.json\", \"r\"))\n",
    "with open(\"data/DX/zixin_crop/listfile.txt\", \"r\") as fin:\n",
    "    for line in fin.readlines():\n",
    "        tmp = line.strip().split(',')\n",
    "        img_name = tmp[0]\n",
    "        y = int(tmp[1])\n",
    "        x = pose_data2[img_name]\n",
    "        \n",
    "        if len(x)>0:\n",
    "            X.append(x)\n",
    "            Y.append(y)\n",
    "            \n",
    "pose_data3 = json.load(open(\"data/DX/openpose_results/inclass_crop.json\", \"r\"))\n",
    "with open(\"data/DX/inclass_crop/listfile.txt\", \"r\") as fin:\n",
    "    for line in fin.readlines():\n",
    "        tmp = line.strip().split(',')\n",
    "        img_name = tmp[0]\n",
    "        y = int(tmp[1])\n",
    "        x = pose_data3[img_name]\n",
    "        \n",
    "        if len(x)>0:\n",
    "            X.append(x)\n",
    "            Y.append(y)\n",
    "\n",
    "X = np.array(X)\n",
    "Y = np.array(Y)\n",
    "print(X.shape, Y.shape)"
   ]
  },
  {
   "cell_type": "code",
   "execution_count": 18,
   "metadata": {},
   "outputs": [],
   "source": [
    "X = X.reshape(547,75)"
   ]
  },
  {
   "cell_type": "code",
   "execution_count": 19,
   "metadata": {},
   "outputs": [
    {
     "name": "stdout",
     "output_type": "stream",
     "text": [
      "Weights saved to weights/pose_svm_dangxiao_v1.pkl.\n"
     ]
    },
    {
     "name": "stderr",
     "output_type": "stream",
     "text": [
      "/Users/yuanmu/anaconda3/lib/python3.7/site-packages/sklearn/svm/base.py:193: FutureWarning: The default value of gamma will change from 'auto' to 'scale' in version 0.22 to account better for unscaled features. Set gamma explicitly to 'auto' or 'scale' to avoid this warning.\n",
      "  \"avoid this warning.\", FutureWarning)\n"
     ]
    }
   ],
   "source": [
    "m = SinglePersonSVM()\n",
    "m.train(X, Y, save_path=\"weights/pose_svm_dangxiao_v1.pkl\")"
   ]
  },
  {
   "cell_type": "code",
   "execution_count": 20,
   "metadata": {},
   "outputs": [
    {
     "name": "stdout",
     "output_type": "stream",
     "text": [
      "Test with 547 samples. Accuracy=1.0.\n"
     ]
    }
   ],
   "source": [
    "m.eval(X,Y)"
   ]
  },
  {
   "cell_type": "code",
   "execution_count": 21,
   "metadata": {},
   "outputs": [
    {
     "name": "stdout",
     "output_type": "stream",
     "text": [
      "(152, 25, 3) (152,)\n"
     ]
    }
   ],
   "source": [
    "test_X = []\n",
    "test_Y = []\n",
    "\n",
    "pose_data3 = json.load(open(\"data/DX/openpose_results/inclass_crop.json\", \"r\"))\n",
    "with open(\"data/DX/inclass_crop/listfile.txt\", \"r\") as fin:\n",
    "    for line in fin.readlines():\n",
    "        tmp = line.strip().split(',')\n",
    "        img_name = tmp[0]\n",
    "        y = int(tmp[1])\n",
    "        x = pose_data3[img_name]\n",
    "        \n",
    "        if len(x)>0:\n",
    "            test_X.append(x)\n",
    "            test_Y.append(y)\n",
    "\n",
    "test_X = np.array(test_X)\n",
    "test_Y = np.array(test_Y)\n",
    "print(test_X.shape, test_Y.shape)"
   ]
  },
  {
   "cell_type": "code",
   "execution_count": 22,
   "metadata": {},
   "outputs": [],
   "source": [
    "test_X = test_X.reshape(152,75)"
   ]
  },
  {
   "cell_type": "code",
   "execution_count": 23,
   "metadata": {},
   "outputs": [
    {
     "name": "stdout",
     "output_type": "stream",
     "text": [
      "Test with 152 samples. Accuracy=1.0.\n"
     ]
    }
   ],
   "source": [
    "m.eval(test_X,test_Y)"
   ]
  },
  {
   "cell_type": "code",
   "execution_count": null,
   "metadata": {},
   "outputs": [],
   "source": []
  }
 ],
 "metadata": {
  "kernelspec": {
   "display_name": "Python 3",
   "language": "python",
   "name": "python3"
  },
  "language_info": {
   "codemirror_mode": {
    "name": "ipython",
    "version": 3
   },
   "file_extension": ".py",
   "mimetype": "text/x-python",
   "name": "python",
   "nbconvert_exporter": "python",
   "pygments_lexer": "ipython3",
   "version": "3.7.3"
  }
 },
 "nbformat": 4,
 "nbformat_minor": 4
}
